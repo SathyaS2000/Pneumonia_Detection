{
 "cells": [
  {
   "cell_type": "code",
   "execution_count": 1,
   "metadata": {},
   "outputs": [],
   "source": [
    "from keras.preprocessing.image import ImageDataGenerator\n",
    "train_datagen = ImageDataGenerator(rescale = 1./255,shear_range = 0.2,zoom_range = 0.2,horizontal_flip = True)\n",
    "test_datagen = ImageDataGenerator(rescale = 1./255)"
   ]
  },
  {
   "cell_type": "code",
   "execution_count": 2,
   "metadata": {},
   "outputs": [
    {
     "name": "stdout",
     "output_type": "stream",
     "text": [
      "Found 5216 images belonging to 2 classes.\n",
      "Found 624 images belonging to 2 classes.\n"
     ]
    }
   ],
   "source": [
    "x_train = train_datagen.flow_from_directory(\"D:/College files/6th Sem/Mini project/chest_xray/train\",target_size=(75,75),batch_size= 32,color_mode = \"grayscale\", class_mode='binary')\n",
    "x_test = test_datagen.flow_from_directory(\"D:/College files/6th Sem/Mini project/chest_xray/test\",target_size=(75,75),batch_size= 32,color_mode = \"grayscale\", class_mode='binary')"
   ]
  },
  {
   "cell_type": "code",
   "execution_count": 3,
   "metadata": {},
   "outputs": [],
   "source": [
    "from keras.models import Sequential\n",
    "from keras.layers import Conv2D, MaxPooling2D, Dense, Dropout, Flatten"
   ]
  },
  {
   "cell_type": "code",
   "execution_count": 4,
   "metadata": {},
   "outputs": [],
   "source": [
    "model = Sequential()"
   ]
  },
  {
   "cell_type": "code",
   "execution_count": 5,
   "metadata": {},
   "outputs": [],
   "source": [
    "model.add(Conv2D(64,(3,3), activation='relu', input_shape=(75,75,1)))"
   ]
  },
  {
   "cell_type": "code",
   "execution_count": 6,
   "metadata": {},
   "outputs": [],
   "source": [
    "model.add(MaxPooling2D(pool_size=(3,3), strides=(2,2)))"
   ]
  },
  {
   "cell_type": "code",
   "execution_count": 7,
   "metadata": {},
   "outputs": [],
   "source": [
    "model.add(Flatten())"
   ]
  },
  {
   "cell_type": "code",
   "execution_count": 8,
   "metadata": {},
   "outputs": [],
   "source": [
    "model.add(Dense(units= 512, kernel_initializer=\"uniform\", activation=\"relu\"))\n",
    "model.add(Dense(units = 256, kernel_initializer=\"uniform\", activation=\"relu\"))\n",
    "model.add(Dense(units = 1, kernel_initializer=\"uniform\", activation=\"sigmoid\"))"
   ]
  },
  {
   "cell_type": "code",
   "execution_count": 9,
   "metadata": {},
   "outputs": [],
   "source": [
    "model.compile(optimizer='adam', loss='binary_crossentropy', metrics=['accuracy'])"
   ]
  },
  {
   "cell_type": "code",
   "execution_count": 10,
   "metadata": {},
   "outputs": [
    {
     "name": "stderr",
     "output_type": "stream",
     "text": [
      "C:\\Users\\sathy\\anaconda3\\lib\\site-packages\\keras\\engine\\training.py:1915: UserWarning: `Model.fit_generator` is deprecated and will be removed in a future version. Please use `Model.fit`, which supports generators.\n",
      "  warnings.warn('`Model.fit_generator` is deprecated and '\n"
     ]
    },
    {
     "name": "stdout",
     "output_type": "stream",
     "text": [
      "Epoch 1/10\n",
      "163/163 [==============================] - 139s 750ms/step - loss: 0.5013 - accuracy: 0.7756 - val_loss: 0.3343 - val_accuracy: 0.8470\n",
      "Epoch 2/10\n",
      "163/163 [==============================] - 105s 642ms/step - loss: 0.2005 - accuracy: 0.9185 - val_loss: 0.3605 - val_accuracy: 0.8503\n",
      "Epoch 3/10\n",
      "163/163 [==============================] - 123s 756ms/step - loss: 0.1866 - accuracy: 0.9251 - val_loss: 0.2874 - val_accuracy: 0.8865\n",
      "Epoch 4/10\n",
      "163/163 [==============================] - 127s 780ms/step - loss: 0.1735 - accuracy: 0.9333 - val_loss: 0.3153 - val_accuracy: 0.8931\n",
      "Epoch 5/10\n",
      "163/163 [==============================] - 130s 797ms/step - loss: 0.1615 - accuracy: 0.9422 - val_loss: 0.3549 - val_accuracy: 0.8849\n",
      "Epoch 6/10\n",
      "163/163 [==============================] - 129s 795ms/step - loss: 0.1605 - accuracy: 0.9356 - val_loss: 0.3558 - val_accuracy: 0.8832\n",
      "Epoch 7/10\n",
      "163/163 [==============================] - 125s 765ms/step - loss: 0.1483 - accuracy: 0.9419 - val_loss: 0.3996 - val_accuracy: 0.8586\n",
      "Epoch 8/10\n",
      "163/163 [==============================] - 125s 767ms/step - loss: 0.1329 - accuracy: 0.9483 - val_loss: 0.6981 - val_accuracy: 0.7944\n",
      "Epoch 9/10\n",
      "163/163 [==============================] - 126s 775ms/step - loss: 0.1209 - accuracy: 0.9547 - val_loss: 0.4444 - val_accuracy: 0.8520\n",
      "Epoch 10/10\n",
      "163/163 [==============================] - 120s 740ms/step - loss: 0.1360 - accuracy: 0.9457 - val_loss: 0.5566 - val_accuracy: 0.8553\n"
     ]
    },
    {
     "data": {
      "text/plain": [
       "<keras.callbacks.History at 0x15f1e3f6970>"
      ]
     },
     "execution_count": 10,
     "metadata": {},
     "output_type": "execute_result"
    }
   ],
   "source": [
    "model.fit_generator(x_train,steps_per_epoch=5216//32, epochs= 10, validation_data=x_test, validation_steps=624//32)"
   ]
  },
  {
   "cell_type": "code",
   "execution_count": 11,
   "metadata": {},
   "outputs": [
    {
     "data": {
      "text/plain": [
       "{'NORMAL': 0, 'PNEUMONIA': 1}"
      ]
     },
     "execution_count": 11,
     "metadata": {},
     "output_type": "execute_result"
    }
   ],
   "source": [
    "x_train.class_indices"
   ]
  },
  {
   "cell_type": "code",
   "execution_count": 12,
   "metadata": {},
   "outputs": [],
   "source": [
    "import tensorflow.keras.preprocessing.image"
   ]
  },
  {
   "cell_type": "code",
   "execution_count": 13,
   "metadata": {},
   "outputs": [],
   "source": [
    "from skimage.transform import resize\n",
    "\n",
    "def detect(frame):\n",
    "    img = resize(frame,(75,75))\n",
    "    img = tensorflow.keras.preprocessing.image.img_to_array(img)\n",
    "    img = np.expand_dims(img, axis= 0)\n",
    "    if np.max(img)>1:\n",
    "        img = img/255.0\n",
    "    prediction = model.predict(img)\n",
    "    print(prediction)\n",
    "    class_pred = model.predict_classes(img)\n",
    "    print(class_pred)\n",
    "    if class_pred[0]==0:\n",
    "        print(\"Normal\")\n",
    "    else:\n",
    "        print(\"Pneumonia\")"
   ]
  },
  {
   "cell_type": "code",
   "execution_count": 15,
   "metadata": {},
   "outputs": [],
   "source": [
    "import numpy as np\n",
    "import cv2\n"
   ]
  },
  {
   "cell_type": "code",
   "execution_count": 16,
   "metadata": {},
   "outputs": [
    {
     "name": "stdout",
     "output_type": "stream",
     "text": [
      "[[0.9985252]]\n",
      "[[1]]\n",
      "Pneumonia\n"
     ]
    },
    {
     "name": "stderr",
     "output_type": "stream",
     "text": [
      "C:\\Users\\sathy\\anaconda3\\lib\\site-packages\\keras\\engine\\sequential.py:450: UserWarning: `model.predict_classes()` is deprecated and will be removed after 2021-01-01. Please use instead:* `np.argmax(model.predict(x), axis=-1)`,   if your model does multi-class classification   (e.g. if it uses a `softmax` last-layer activation).* `(model.predict(x) > 0.5).astype(\"int32\")`,   if your model does binary classification   (e.g. if it uses a `sigmoid` last-layer activation).\n",
      "  warnings.warn('`model.predict_classes()` is deprecated and '\n"
     ]
    }
   ],
   "source": [
    "frame = cv2.imread(\"D:/College files/6th Sem/Mini project/chest_xray/val/PNEUMONIA/person1951_bacteria_4882.jpeg\",0)\n",
    "detect(frame)"
   ]
  },
  {
   "cell_type": "code",
   "execution_count": 17,
   "metadata": {},
   "outputs": [],
   "source": [
    "model.save(\"cnn_model.h5\")"
   ]
  },
  {
   "cell_type": "code",
   "execution_count": null,
   "metadata": {},
   "outputs": [],
   "source": []
  }
 ],
 "metadata": {
  "kernelspec": {
   "display_name": "Python 3",
   "language": "python",
   "name": "python3"
  },
  "language_info": {
   "codemirror_mode": {
    "name": "ipython",
    "version": 3
   },
   "file_extension": ".py",
   "mimetype": "text/x-python",
   "name": "python",
   "nbconvert_exporter": "python",
   "pygments_lexer": "ipython3",
   "version": "3.8.5"
  }
 },
 "nbformat": 4,
 "nbformat_minor": 4
}
